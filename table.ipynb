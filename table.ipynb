{
 "cells": [
  {
   "cell_type": "code",
   "execution_count": 42,
   "metadata": {},
   "outputs": [],
   "source": [
    "import pandas as pd\n",
    "\n",
    "# Wczytaj dane z pliku CSV (zamień 'nazwa_pliku.csv' na faktyczną nazwę pliku)\n",
    "df = pd.read_csv('t_test_results.csv')\n",
    "\n",
    "# Przefiltruj dane dla \"bitcoin\"\n",
    "df_bitcoin = df[df['crypto'] == 'bitcoin']\n"
   ]
  },
  {
   "cell_type": "code",
   "execution_count": 43,
   "metadata": {},
   "outputs": [
    {
     "name": "stderr",
     "output_type": "stream",
     "text": [
      "C:\\Users\\Radosz\\AppData\\Local\\Temp\\ipykernel_4888\\3287971344.py:15: FutureWarning: Downcasting object dtype arrays on .fillna, .ffill, .bfill is deprecated and will change in a future version. Call result.infer_objects(copy=False) instead. To opt-in to the future behavior, set `pd.set_option('future.no_silent_downcasting', True)`\n",
      "  p_values_matrix = p_values_matrix.fillna(np.nan)\n"
     ]
    }
   ],
   "source": [
    "import numpy as np\n",
    "# Wyodrębnij unikalne klasyfikatory\n",
    "classifiers = sorted(set(df_bitcoin['Classifier 1']).union(set(df_bitcoin['Classifier 2'])))[:6]  # Pierwsze 6 unikalnych klasyfikatorów\n",
    "\n",
    "# Stwórz pustą macierz p-value\n",
    "p_values_matrix = pd.DataFrame(index=classifiers, columns=classifiers)\n",
    "\n",
    "# Wypełnij macierz p-value odpowiednimi wartościami\n",
    "for _, row in df_bitcoin.iterrows():\n",
    "    if row['Classifier 1'] in classifiers and row['Classifier 2'] in classifiers:\n",
    "        p_values_matrix.at[row['Classifier 1'], row['Classifier 2']] = row['p-value']\n",
    "        p_values_matrix.at[row['Classifier 2'], row['Classifier 1']] = row['p-value']  # Macierz symetryczna\n",
    "\n",
    "# Zamień brakujące wartości na 1 (lub inną wartość, która oznacza brak związku)\n",
    "p_values_matrix = p_values_matrix.fillna(np.nan)\n"
   ]
  },
  {
   "cell_type": "code",
   "execution_count": 44,
   "metadata": {},
   "outputs": [
    {
     "data": {
      "text/html": [
       "<div>\n",
       "<style scoped>\n",
       "    .dataframe tbody tr th:only-of-type {\n",
       "        vertical-align: middle;\n",
       "    }\n",
       "\n",
       "    .dataframe tbody tr th {\n",
       "        vertical-align: top;\n",
       "    }\n",
       "\n",
       "    .dataframe thead th {\n",
       "        text-align: right;\n",
       "    }\n",
       "</style>\n",
       "<table border=\"1\" class=\"dataframe\">\n",
       "  <thead>\n",
       "    <tr style=\"text-align: right;\">\n",
       "      <th></th>\n",
       "      <th>BRF</th>\n",
       "      <th>DT</th>\n",
       "      <th>KNN</th>\n",
       "      <th>LR</th>\n",
       "      <th>MLP</th>\n",
       "      <th>RF</th>\n",
       "    </tr>\n",
       "  </thead>\n",
       "  <tbody>\n",
       "    <tr>\n",
       "      <th>BRF</th>\n",
       "      <td>NaN</td>\n",
       "      <td>5.315185e-04</td>\n",
       "      <td>8.522861e-06</td>\n",
       "      <td>5.968491e-02</td>\n",
       "      <td>2.220446e-16</td>\n",
       "      <td>1.925675e-01</td>\n",
       "    </tr>\n",
       "    <tr>\n",
       "      <th>DT</th>\n",
       "      <td>5.315185e-04</td>\n",
       "      <td>NaN</td>\n",
       "      <td>1.017437e-06</td>\n",
       "      <td>3.616352e-06</td>\n",
       "      <td>6.746603e-12</td>\n",
       "      <td>8.160925e-01</td>\n",
       "    </tr>\n",
       "    <tr>\n",
       "      <th>KNN</th>\n",
       "      <td>8.522861e-06</td>\n",
       "      <td>1.017437e-06</td>\n",
       "      <td>NaN</td>\n",
       "      <td>6.705747e-13</td>\n",
       "      <td>4.703771e-01</td>\n",
       "      <td>2.936951e-03</td>\n",
       "    </tr>\n",
       "    <tr>\n",
       "      <th>LR</th>\n",
       "      <td>5.968491e-02</td>\n",
       "      <td>3.616352e-06</td>\n",
       "      <td>6.705747e-13</td>\n",
       "      <td>NaN</td>\n",
       "      <td>6.625446e-02</td>\n",
       "      <td>3.654564e-07</td>\n",
       "    </tr>\n",
       "    <tr>\n",
       "      <th>MLP</th>\n",
       "      <td>2.220446e-16</td>\n",
       "      <td>6.746603e-12</td>\n",
       "      <td>4.703771e-01</td>\n",
       "      <td>6.625446e-02</td>\n",
       "      <td>NaN</td>\n",
       "      <td>0.000000e+00</td>\n",
       "    </tr>\n",
       "    <tr>\n",
       "      <th>RF</th>\n",
       "      <td>1.925675e-01</td>\n",
       "      <td>8.160925e-01</td>\n",
       "      <td>2.936951e-03</td>\n",
       "      <td>3.654564e-07</td>\n",
       "      <td>0.000000e+00</td>\n",
       "      <td>NaN</td>\n",
       "    </tr>\n",
       "  </tbody>\n",
       "</table>\n",
       "</div>"
      ],
      "text/plain": [
       "              BRF            DT           KNN            LR           MLP  \\\n",
       "BRF           NaN  5.315185e-04  8.522861e-06  5.968491e-02  2.220446e-16   \n",
       "DT   5.315185e-04           NaN  1.017437e-06  3.616352e-06  6.746603e-12   \n",
       "KNN  8.522861e-06  1.017437e-06           NaN  6.705747e-13  4.703771e-01   \n",
       "LR   5.968491e-02  3.616352e-06  6.705747e-13           NaN  6.625446e-02   \n",
       "MLP  2.220446e-16  6.746603e-12  4.703771e-01  6.625446e-02           NaN   \n",
       "RF   1.925675e-01  8.160925e-01  2.936951e-03  3.654564e-07  0.000000e+00   \n",
       "\n",
       "               RF  \n",
       "BRF  1.925675e-01  \n",
       "DT   8.160925e-01  \n",
       "KNN  2.936951e-03  \n",
       "LR   3.654564e-07  \n",
       "MLP  0.000000e+00  \n",
       "RF            NaN  "
      ]
     },
     "execution_count": 44,
     "metadata": {},
     "output_type": "execute_result"
    }
   ],
   "source": [
    "p_values_matrix"
   ]
  },
  {
   "cell_type": "code",
   "execution_count": 45,
   "metadata": {},
   "outputs": [
    {
     "data": {
      "image/png": "[encoded data removed]",
      "text/plain": [
       "<Figure size 800x800 with 1 Axes>"
      ]
     },
     "metadata": {},
     "output_type": "display_data"
    }
   ],
   "source": [
    "import matplotlib.pyplot as plt\n",
    "import numpy as np\n",
    "import matplotlib.colors as mcolors\n",
    "\n",
    "# Ustawienia wykresu\n",
    "fig, ax = plt.subplots(figsize=(8, 8))\n",
    "\n",
    "# Stwórz macierz kolorów (0 dla białego, 1 dla czarnego, 0.5 dla szarego)\n",
    "colors = p_values_matrix.copy()\n",
    "colors = np.where(colors > 0.05, 1, colors)  # Czarny dla p-value > 0.05\n",
    "colors = np.where(colors <= 0.05, 0, colors)  # Biały dla p-value <= 0.05\n",
    "colors = np.where(np.isnan(colors), 0.5, colors)  # Szary dla brakujących danych (np.nan)\n",
    "\n",
    "# Definiuj niestandardową kolormapę\n",
    "cmap = mcolors.ListedColormap(['white', 'gray', 'black'])\n",
    "\n",
    "# Wyświetl macierz jako obraz\n",
    "cax = ax.matshow(colors, cmap=cmap)\n",
    "\n",
    "# Ustawienia osi\n",
    "ax.set_xticks(np.arange(len(classifiers)))\n",
    "ax.set_yticks(np.arange(len(classifiers)))\n",
    "ax.set_xticklabels(classifiers)\n",
    "ax.set_yticklabels(classifiers)\n",
    "\n",
    "# Obróć etykiety osi x\n",
    "plt.setp(ax.get_xticklabels(), rotation=45, ha='right', rotation_mode='anchor')\n",
    "\n",
    "# Dodaj siatkę\n",
    "ax.grid(which='both', color='gray', linestyle='-', linewidth=0.5)\n",
    "\n",
    "plt.title('Macierz p-value dla klasyfikatorów Bitcoin')\n",
    "plt.show()\n"
   ]
  }
 ],
 "metadata": {
  "kernelspec": {
   "display_name": "venv",
   "language": "python",
   "name": "python3"
  },
  "language_info": {
   "codemirror_mode": {
    "name": "ipython",
    "version": 3
   },
   "file_extension": ".py",
   "mimetype": "text/x-python",
   "name": "python",
   "nbconvert_exporter": "python",
   "pygments_lexer": "ipython3",
   "version": "3.11.2"
  }
 },
 "nbformat": 4,
 "nbformat_minor": 2
}
