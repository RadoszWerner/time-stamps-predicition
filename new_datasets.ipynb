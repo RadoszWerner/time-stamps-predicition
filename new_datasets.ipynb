{
 "cells": [
  {
   "cell_type": "code",
   "execution_count": 11,
   "id": "92441180-4270-4722-815b-6004b2b48991",
   "metadata": {},
   "outputs": [],
   "source": [
    "import matplotlib\n",
    "matplotlib.use('TkAgg')\n",
    "import pandas as pd\n",
    "import matplotlib.pyplot as plt\n",
    "import numpy as np\n",
    "import math\n",
    "import random"
   ]
  },
  {
   "cell_type": "code",
   "execution_count": 12,
   "id": "30b33a53-8c3b-4085-980d-0763ec26c5f2",
   "metadata": {},
   "outputs": [
    {
     "name": "stderr",
     "output_type": "stream",
     "text": [
      "C:\\Python311\\Lib\\site-packages\\pandas\\core\\indexes\\base.py:7588: FutureWarning: Dtype inference on a pandas object (Series, Index, ExtensionArray) is deprecated. The Index constructor will keep the original dtype in the future. Call `infer_objects` on the result to get the old behavior.\n",
      "  return Index(sequences[0], name=names)\n"
     ]
    }
   ],
   "source": [
    "# Load the data\n",
    "data = pd.read_csv('crypto-markets.csv')\n",
    "btc_data = data[data['symbol'] == 'BTC'].copy()\n",
    "doge_data = data[data['symbol'] == 'DOGE'].copy()\n",
    "ltc_data = data[data['symbol'] == 'LTC'].copy()\n",
    "btc_data.loc[:, 'date'] = pd.to_datetime(btc_data['date'])\n",
    "doge_data.loc[:, 'date'] = pd.to_datetime(doge_data['date'])\n",
    "ltc_data.loc[:, 'date'] = pd.to_datetime(ltc_data['date'])\n",
    "btc_data.set_index('date', inplace=True)\n",
    "doge_data.set_index('date', inplace=True)\n",
    "ltc_data.set_index('date', inplace=True)\n",
    "#missing_values = btc_data.isnull().sum() + doge_data.isnull().sum() + ltc_data.isnull().sum()\n",
    "#print(\"Missing values:\\n\", missing_values)"
   ]
  },
  {
   "cell_type": "code",
   "execution_count": 13,
   "id": "ad6da7a4-bf9f-4860-9758-e1b171adb4bb",
   "metadata": {},
   "outputs": [],
   "source": [
    "def create_random_subsets(data, num_subsets=40, window_size=10):\n",
    "    subsets = []\n",
    "    num_rows = len(data)\n",
    "    for _ in range(num_subsets):\n",
    "        start_index = random.randint(0, num_rows - window_size)\n",
    "        subset = data.iloc[start_index:start_index+window_size]\n",
    "        subsets.append(subset)\n",
    "    return subsets\n",
    "\n",
    "btc_subsets = create_random_subsets(btc_data)\n",
    "doge_subsets = create_random_subsets(doge_data)\n",
    "ltc_subsets = create_random_subsets(ltc_data)\n"
   ]
  },
  {
   "cell_type": "code",
   "execution_count": 14,
   "id": "4d0d696a-160b-4ea0-9d47-c391c98787b3",
   "metadata": {},
   "outputs": [],
   "source": [
    "# Creating table of 10-day datasets\n",
    "def create_dataset_table(subsets):\n",
    "    dataset_ids = []\n",
    "    dates_list = []\n",
    "    close_values_list = []\n",
    "\n",
    "    for i, subset in enumerate(subsets):\n",
    "        dataset_ids.append(i + 1)\n",
    "\n",
    "        dates = subset.index.date.tolist()  # Extract only the date part\n",
    "        close_values = subset['close'].tolist()\n",
    "\n",
    "        dates_list.append(dates)\n",
    "        close_values_list.append(close_values)\n",
    "\n",
    "    table = pd.DataFrame({\n",
    "        'dataset_id': dataset_ids,\n",
    "        'dates': dates_list,\n",
    "        'close_values': close_values_list\n",
    "    })\n",
    "\n",
    "    return table\n",
    "\n",
    "btc_table = create_dataset_table(btc_subsets)\n",
    "#print(btc_table)\n"
   ]
  },
  {
   "cell_type": "code",
   "execution_count": 15,
   "id": "ccc331fd-804c-4271-a7b8-24dc2d42418f",
   "metadata": {},
   "outputs": [],
   "source": [
    "# Adding label collumn containing information about rise/ fall\n",
    "def add_label_column(table):\n",
    "    for index, row in table.iterrows():\n",
    "        close_day_7 = row['close_values'][6]\n",
    "        close_day_10 = row['close_values'][9]\n",
    "\n",
    "        label = int(close_day_10 > close_day_7)\n",
    "\n",
    "        table.at[index, 'rise'] = label\n",
    "\n",
    "    return table\n",
    "\n",
    "btc_table_with_label = add_label_column(btc_table)\n",
    "#print(btc_table_with_label)"
   ]
  },
  {
   "cell_type": "code",
   "execution_count": null,
   "id": "adbec489-4e36-4935-8f69-5da30aa58a1b",
   "metadata": {},
   "outputs": [],
   "source": []
  }
 ],
 "metadata": {
  "kernelspec": {
   "display_name": "Python 3 (ipykernel)",
   "language": "python",
   "name": "python3"
  },
  "language_info": {
   "codemirror_mode": {
    "name": "ipython",
    "version": 3
   },
   "file_extension": ".py",
   "mimetype": "text/x-python",
   "name": "python",
   "nbconvert_exporter": "python",
   "pygments_lexer": "ipython3",
   "version": "3.11.2"
  }
 },
 "nbformat": 4,
 "nbformat_minor": 5
}
