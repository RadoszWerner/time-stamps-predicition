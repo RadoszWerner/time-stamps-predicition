{
 "cells": [
  {
   "cell_type": "code",
   "execution_count": 3,
   "metadata": {},
   "outputs": [],
   "source": [
    "import matplotlib\n",
    "matplotlib.use('TkAgg')\n",
    "import pandas as pd\n",
    "import matplotlib.pyplot as plt\n",
    "import numpy as np\n",
    "import math\n",
    "from new_datasets import create_subsets"
   ]
  },
  {
   "cell_type": "code",
   "execution_count": 8,
   "metadata": {},
   "outputs": [
    {
     "name": "stderr",
     "output_type": "stream",
     "text": [
      "/opt/homebrew/lib/python3.11/site-packages/pandas/core/indexes/base.py:7587: FutureWarning: Dtype inference on a pandas object (Series, Index, ExtensionArray) is deprecated. The Index constructor will keep the original dtype in the future. Call `infer_objects` on the result to get the old behavior.\n",
      "  return Index(sequences[0], name=names)\n",
      "/opt/homebrew/lib/python3.11/site-packages/pandas/core/indexes/base.py:7587: FutureWarning: Dtype inference on a pandas object (Series, Index, ExtensionArray) is deprecated. The Index constructor will keep the original dtype in the future. Call `infer_objects` on the result to get the old behavior.\n",
      "  return Index(sequences[0], name=names)\n",
      "/opt/homebrew/lib/python3.11/site-packages/pandas/core/indexes/base.py:7587: FutureWarning: Dtype inference on a pandas object (Series, Index, ExtensionArray) is deprecated. The Index constructor will keep the original dtype in the future. Call `infer_objects` on the result to get the old behavior.\n",
      "  return Index(sequences[0], name=names)\n"
     ]
    }
   ],
   "source": [
    "# Load the data\n",
    "data = pd.read_csv('crypto-markets.csv')\n",
    "btc_data = data[data['symbol'] == 'BTC'].copy()\n",
    "doge_data = data[data['symbol'] == 'DOGE'].copy()\n",
    "ltc_data = data[data['symbol'] == 'LTC'].copy()\n",
    "btc_data.loc[:, 'date'] = pd.to_datetime(btc_data['date'])\n",
    "doge_data.loc[:, 'date'] = pd.to_datetime(doge_data['date'])\n",
    "ltc_data.loc[:, 'date'] = pd.to_datetime(ltc_data['date'])\n",
    "btc_data.set_index('date', inplace=True)\n",
    "doge_data.set_index('date', inplace=True)\n",
    "ltc_data.set_index('date', inplace=True)\n",
    "#missing_values = btc_data.isnull().sum() + doge_data.isnull().sum() + ltc_data.isnull().sum()\n",
    "#print(\"Missing values:\\n\", missing_values)\n",
    "cr_subsets = create_subsets"
   ]
  },
  {
   "cell_type": "code",
   "execution_count": null,
   "metadata": {},
   "outputs": [],
   "source": [
    "btc_subsets = cr_subsets.create_random_subsets(btc_data)\n",
    "doge_subsets = cr_subsets.create_random_subsets(doge_data)\n",
    "ltc_subsets = cr_subsets.create_random_subsets(ltc_data)"
   ]
  },
  {
   "cell_type": "code",
   "execution_count": null,
   "metadata": {},
   "outputs": [],
   "source": [
    "btc_table = cr_subsets.create_dataset_table(btc_subsets)\n",
    "doge_table = cr_subsets.create_dataset_table(doge_subsets)\n",
    "ltc_table = cr_subsets.create_dataset_table(ltc_subsets)"
   ]
  },
  {
   "cell_type": "code",
   "execution_count": null,
   "metadata": {},
   "outputs": [],
   "source": [
    "btc_table_with_label = cr_subsets.add_label_column(btc_table)\n",
    "ltc_table_with_label = cr_subsets.add_label_column(ltc_table)\n",
    "doge_table_with_label = cr_subsets.add_label_column(doge_table)"
   ]
  }
 ],
 "metadata": {
  "kernelspec": {
   "display_name": "arima",
   "language": "python",
   "name": "arima"
  },
  "language_info": {
   "codemirror_mode": {
    "name": "ipython",
    "version": 3
   },
   "file_extension": ".py",
   "mimetype": "text/x-python",
   "name": "python",
   "nbconvert_exporter": "python",
   "pygments_lexer": "ipython3",
   "version": "3.11.9"
  }
 },
 "nbformat": 4,
 "nbformat_minor": 2
}
