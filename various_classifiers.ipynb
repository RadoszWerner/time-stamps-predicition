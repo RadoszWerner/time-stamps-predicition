{
 "cells": [
  {
   "cell_type": "code",
   "execution_count": 1,
   "metadata": {
    "metadata": {}
   },
   "outputs": [],
   "source": [
    "import matplotlib\n",
    "matplotlib.use('TkAgg')\n",
    "import pandas as pd\n",
    "import matplotlib.pyplot as plt\n",
    "import numpy as np\n",
    "import math\n",
    "from new_datasets_py import create_subsets\n",
    "from sklearn.tree import DecisionTreeClassifier\n",
    "from sklearn.ensemble import RandomForestClassifier\n",
    "from sklearn.linear_model import LogisticRegression\n",
    "from sklearn.svm import SVC\n",
    "from sklearn.neighbors import KNeighborsClassifier\n",
    "from sklearn.model_selection import RepeatedStratifiedKFold\n",
    "from sklearn.metrics import balanced_accuracy_score\n",
    "from sklearn.neural_network import MLPClassifier\n",
    "from sklearn.model_selection import RepeatedStratifiedKFold\n",
    "from sklearn.metrics import balanced_accuracy_score\n",
    "from sklearn.tree import DecisionTreeClassifier\n",
    "from sklearn.ensemble import RandomForestClassifier\n",
    "from sklearn.linear_model import LogisticRegression\n",
    "from sklearn.svm import SVC\n",
    "from sklearn.model_selection import RepeatedStratifiedKFold\n",
    "from sklearn.metrics import balanced_accuracy_score\n",
    "from imblearn.ensemble import BalancedRandomForestClassifier\n"
   ]
  },
  {
   "cell_type": "code",
   "execution_count": 2,
   "metadata": {},
   "outputs": [
    {
     "name": "stdout",
     "output_type": "stream",
     "text": [
      "                                            close_values  label\n",
      "0      [0.695589, 0.742796, 0.86392, 0.734774, 1.07, ...      0\n",
      "1      [0.742796, 0.86392, 0.734774, 1.07, 1.43, 1.33...      1\n",
      "2      [0.86392, 0.734774, 1.07, 1.43, 1.33, 1.4, 1.4...      1\n",
      "3      [0.734774, 1.07, 1.43, 1.33, 1.4, 1.4, 1.31, 2...      1\n",
      "4      [1.07, 1.43, 1.33, 1.4, 1.4, 1.31, 2.38, 3.18,...      1\n",
      "...                                                  ...    ...\n",
      "21966  [0.125544, 0.122172, 0.119888, 0.117055, 0.100...      1\n",
      "21967  [0.122172, 0.119888, 0.117055, 0.100511, 0.112...      1\n",
      "21968  [0.119888, 0.117055, 0.100511, 0.112595, 0.111...      1\n",
      "21969  [0.117055, 0.100511, 0.112595, 0.11143, 0.1131...      1\n",
      "21970  [0.100511, 0.112595, 0.11143, 0.113184, 0.1123...      1\n",
      "\n",
      "[21971 rows x 2 columns]\n",
      "close_values    0\n",
      "label           0\n",
      "dtype: int64\n"
     ]
    },
    {
     "name": "stderr",
     "output_type": "stream",
     "text": [
      "d:\\Projects\\time-stamps-predicition\\venv\\Lib\\site-packages\\pandas\\core\\indexes\\base.py:7588: FutureWarning: Dtype inference on a pandas object (Series, Index, ExtensionArray) is deprecated. The Index constructor will keep the original dtype in the future. Call `infer_objects` on the result to get the old behavior.\n",
      "  return Index(sequences[0], name=names)\n"
     ]
    }
   ],
   "source": [
    "data = pd.read_csv('crypto-markets.csv')\n",
    "filtered_data = data[data['ranknow'] < 30]\n",
    "filtered_data.loc[:, 'date'] = pd.to_datetime(filtered_data['date'])\n",
    "filtered_data.set_index('date', inplace=True)\n",
    "datasets_with_labels = []\n",
    "\n",
    "# Group the filtered data by 'slug'\n",
    "grouped = filtered_data.groupby('slug')\n",
    "\n",
    "# Iterate over each group\n",
    "for crypto, group in grouped:\n",
    "    close_values = group['close'].values\n",
    "\n",
    "    # Iterate over the windows of 10 days\n",
    "    for start in range(len(close_values) - 9):\n",
    "        end = start + 10\n",
    "        window = close_values[start:end]\n",
    "\n",
    "        # Calculate label based on values at day 7 and day 10\n",
    "        value_day_7 = window[6]  # Index 6 corresponds to the 7th day (0-indexed)\n",
    "        value_day_10 = window[9]  # Index 9 corresponds to the 10th day (0-indexed)\n",
    "        label = 1 if value_day_10 > value_day_7 else 0\n",
    "\n",
    "        # Append the dataset and label as a tuple to the datasets_with_labels list\n",
    "        datasets_with_labels.append((window, label))\n",
    "\n",
    "# Convert the list of tuples to a DataFrame\n",
    "combined_table = pd.DataFrame(datasets_with_labels, columns=['close_values', 'label'])\n",
    "\n",
    "# Print to check\n",
    "print(combined_table)\n",
    "missing_values = combined_table.isnull().sum()\n",
    "print(missing_values)"
   ]
  },
  {
   "cell_type": "code",
   "execution_count": 3,
   "metadata": {},
   "outputs": [
    {
     "name": "stdout",
     "output_type": "stream",
     "text": [
      "label\n",
      "0    11709\n",
      "1    10262\n",
      "Name: count, dtype: int64\n",
      "Imbalance Ratio: 0.8764198479801861\n"
     ]
    }
   ],
   "source": [
    "# Checking balance of the dataset\n",
    "print(combined_table['label'].value_counts())\n",
    "combined_table['label'].value_counts().plot(kind='bar')\n",
    "plt.title('Class Distribution')\n",
    "plt.xlabel('Class')\n",
    "plt.ylabel('Frequency')\n",
    "plt.show()\n",
    "class_counts = combined_table['label'].value_counts()\n",
    "imbalance_ratio = class_counts.min() / class_counts.max()\n",
    "print(f\"Imbalance Ratio: {imbalance_ratio}\")"
   ]
  },
  {
   "cell_type": "code",
   "execution_count": 4,
   "metadata": {},
   "outputs": [],
   "source": [
    "X = []\n",
    "y = []\n",
    "X = combined_table['close_values'].apply(lambda x: x[:7]).tolist()\n",
    "y = combined_table['label'].astype(int).tolist()\n",
    "X = np.array(X)\n",
    "y = np.array(y)\n"
   ]
  },
  {
   "cell_type": "code",
   "execution_count": null,
   "metadata": {},
   "outputs": [],
   "source": [
    "classifiers = {\n",
    "    \"Multi-Layer Perceptron\": MLPClassifier(),\n",
    "    \"Decision Tree\": DecisionTreeClassifier(),\n",
    "    \"Random Forest\": RandomForestClassifier(),\n",
    "    \"Logistic Regression\": LogisticRegression(max_iter=1000),\n",
    "    \"Support Vector Machine\": SVC(),\n",
    "    \"K-Nearest Neighbors\": KNeighborsClassifier()\n",
    "}\n",
    "\n",
    "rskf = RepeatedStratifiedKFold(n_splits=5, n_repeats=2)\n",
    "\n",
    "for clf_name, clf in classifiers.items():\n",
    "    print(f\"Evaluating {clf_name}:\")\n",
    "    for train, test in rskf.split(X, y):\n",
    "        model = clf\n",
    "        model.fit(X[train], y[train])\n",
    "        y_pred = model.predict(X[test])\n",
    "        acc = balanced_accuracy_score(y_pred, y[test])\n",
    "\n",
    "        print(f\"   Balanced Accuracy: {acc}\")\n"
   ]
  },
  {
   "cell_type": "code",
   "execution_count": 6,
   "metadata": {},
   "outputs": [
    {
     "name": "stdout",
     "output_type": "stream",
     "text": [
      "Evaluating Multi-Layer Perceptron:\n",
      "   Balanced Accuracy: 0.5054657469458995\n",
      "   Balanced Accuracy: 0.5076308048801195\n",
      "   Balanced Accuracy: 0.5210048974319278\n",
      "   Balanced Accuracy: 0.5292166689139587\n",
      "   Balanced Accuracy: 0.5022441398622118\n",
      "   Balanced Accuracy: 0.5066503040893687\n",
      "   Balanced Accuracy: 0.5045395298665108\n",
      "   Balanced Accuracy: 0.5395602465695504\n",
      "   Balanced Accuracy: 0.5219483439122524\n",
      "   Balanced Accuracy: 0.5213453894686992\n",
      "Evaluating Decision Tree:\n",
      "   Balanced Accuracy: 0.5505111554896855\n",
      "   Balanced Accuracy: 0.5452211335340915\n",
      "   Balanced Accuracy: 0.5449728909996787\n",
      "   Balanced Accuracy: 0.5460517992485721\n",
      "   Balanced Accuracy: 0.5574904917174583\n",
      "   Balanced Accuracy: 0.5456827670489501\n",
      "   Balanced Accuracy: 0.5421417192283299\n",
      "   Balanced Accuracy: 0.5454300484582745\n",
      "   Balanced Accuracy: 0.5489085651789594\n",
      "   Balanced Accuracy: 0.5431812001190993\n",
      "Evaluating Random Forest:\n",
      "   Balanced Accuracy: 0.5771977481455353\n",
      "   Balanced Accuracy: 0.5643865808367583\n",
      "   Balanced Accuracy: 0.5602003752145331\n",
      "   Balanced Accuracy: 0.5690765544185923\n",
      "   Balanced Accuracy: 0.5712843937243566\n",
      "   Balanced Accuracy: 0.5787284900603686\n",
      "   Balanced Accuracy: 0.5542527504357249\n",
      "   Balanced Accuracy: 0.5716594836555284\n",
      "   Balanced Accuracy: 0.5792222455274727\n",
      "   Balanced Accuracy: 0.5592722998589492\n",
      "Evaluating Balanced Random Forest:\n"
     ]
    },
    {
     "name": "stderr",
     "output_type": "stream",
     "text": [
      "d:\\Projects\\time-stamps-predicition\\venv\\Lib\\site-packages\\imblearn\\ensemble\\_forest.py:589: FutureWarning: The default of `replacement` will change from `False` to `True` in version 0.13. This change will follow the implementation proposed in the original paper. Set to `True` to silence this warning and adopt the future behaviour.\n",
      "  warn(\n",
      "d:\\Projects\\time-stamps-predicition\\venv\\Lib\\site-packages\\imblearn\\ensemble\\_forest.py:601: FutureWarning: The default of `bootstrap` will change from `True` to `False` in version 0.13. This change will follow the implementation proposed in the original paper. Set to `False` to silence this warning and adopt the future behaviour.\n",
      "  warn(\n"
     ]
    },
    {
     "name": "stdout",
     "output_type": "stream",
     "text": [
      "   Balanced Accuracy: 0.5808123580788025\n"
     ]
    },
    {
     "name": "stderr",
     "output_type": "stream",
     "text": [
      "d:\\Projects\\time-stamps-predicition\\venv\\Lib\\site-packages\\imblearn\\ensemble\\_forest.py:589: FutureWarning: The default of `replacement` will change from `False` to `True` in version 0.13. This change will follow the implementation proposed in the original paper. Set to `True` to silence this warning and adopt the future behaviour.\n",
      "  warn(\n",
      "d:\\Projects\\time-stamps-predicition\\venv\\Lib\\site-packages\\imblearn\\ensemble\\_forest.py:601: FutureWarning: The default of `bootstrap` will change from `True` to `False` in version 0.13. This change will follow the implementation proposed in the original paper. Set to `False` to silence this warning and adopt the future behaviour.\n",
      "  warn(\n"
     ]
    },
    {
     "name": "stdout",
     "output_type": "stream",
     "text": [
      "   Balanced Accuracy: 0.5723191054778991\n"
     ]
    },
    {
     "name": "stderr",
     "output_type": "stream",
     "text": [
      "d:\\Projects\\time-stamps-predicition\\venv\\Lib\\site-packages\\imblearn\\ensemble\\_forest.py:589: FutureWarning: The default of `replacement` will change from `False` to `True` in version 0.13. This change will follow the implementation proposed in the original paper. Set to `True` to silence this warning and adopt the future behaviour.\n",
      "  warn(\n",
      "d:\\Projects\\time-stamps-predicition\\venv\\Lib\\site-packages\\imblearn\\ensemble\\_forest.py:601: FutureWarning: The default of `bootstrap` will change from `True` to `False` in version 0.13. This change will follow the implementation proposed in the original paper. Set to `False` to silence this warning and adopt the future behaviour.\n",
      "  warn(\n"
     ]
    },
    {
     "name": "stdout",
     "output_type": "stream",
     "text": [
      "   Balanced Accuracy: 0.5592704541028062\n"
     ]
    },
    {
     "name": "stderr",
     "output_type": "stream",
     "text": [
      "d:\\Projects\\time-stamps-predicition\\venv\\Lib\\site-packages\\imblearn\\ensemble\\_forest.py:589: FutureWarning: The default of `replacement` will change from `False` to `True` in version 0.13. This change will follow the implementation proposed in the original paper. Set to `True` to silence this warning and adopt the future behaviour.\n",
      "  warn(\n",
      "d:\\Projects\\time-stamps-predicition\\venv\\Lib\\site-packages\\imblearn\\ensemble\\_forest.py:601: FutureWarning: The default of `bootstrap` will change from `True` to `False` in version 0.13. This change will follow the implementation proposed in the original paper. Set to `False` to silence this warning and adopt the future behaviour.\n",
      "  warn(\n"
     ]
    },
    {
     "name": "stdout",
     "output_type": "stream",
     "text": [
      "   Balanced Accuracy: 0.5730267943794394\n"
     ]
    },
    {
     "name": "stderr",
     "output_type": "stream",
     "text": [
      "d:\\Projects\\time-stamps-predicition\\venv\\Lib\\site-packages\\imblearn\\ensemble\\_forest.py:589: FutureWarning: The default of `replacement` will change from `False` to `True` in version 0.13. This change will follow the implementation proposed in the original paper. Set to `True` to silence this warning and adopt the future behaviour.\n",
      "  warn(\n",
      "d:\\Projects\\time-stamps-predicition\\venv\\Lib\\site-packages\\imblearn\\ensemble\\_forest.py:601: FutureWarning: The default of `bootstrap` will change from `True` to `False` in version 0.13. This change will follow the implementation proposed in the original paper. Set to `False` to silence this warning and adopt the future behaviour.\n",
      "  warn(\n"
     ]
    },
    {
     "name": "stdout",
     "output_type": "stream",
     "text": [
      "   Balanced Accuracy: 0.5799335549002274\n"
     ]
    },
    {
     "name": "stderr",
     "output_type": "stream",
     "text": [
      "d:\\Projects\\time-stamps-predicition\\venv\\Lib\\site-packages\\imblearn\\ensemble\\_forest.py:589: FutureWarning: The default of `replacement` will change from `False` to `True` in version 0.13. This change will follow the implementation proposed in the original paper. Set to `True` to silence this warning and adopt the future behaviour.\n",
      "  warn(\n",
      "d:\\Projects\\time-stamps-predicition\\venv\\Lib\\site-packages\\imblearn\\ensemble\\_forest.py:601: FutureWarning: The default of `bootstrap` will change from `True` to `False` in version 0.13. This change will follow the implementation proposed in the original paper. Set to `False` to silence this warning and adopt the future behaviour.\n",
      "  warn(\n"
     ]
    },
    {
     "name": "stdout",
     "output_type": "stream",
     "text": [
      "   Balanced Accuracy: 0.5789065220004634\n"
     ]
    },
    {
     "name": "stderr",
     "output_type": "stream",
     "text": [
      "d:\\Projects\\time-stamps-predicition\\venv\\Lib\\site-packages\\imblearn\\ensemble\\_forest.py:589: FutureWarning: The default of `replacement` will change from `False` to `True` in version 0.13. This change will follow the implementation proposed in the original paper. Set to `True` to silence this warning and adopt the future behaviour.\n",
      "  warn(\n",
      "d:\\Projects\\time-stamps-predicition\\venv\\Lib\\site-packages\\imblearn\\ensemble\\_forest.py:601: FutureWarning: The default of `bootstrap` will change from `True` to `False` in version 0.13. This change will follow the implementation proposed in the original paper. Set to `False` to silence this warning and adopt the future behaviour.\n",
      "  warn(\n"
     ]
    },
    {
     "name": "stdout",
     "output_type": "stream",
     "text": [
      "   Balanced Accuracy: 0.5618835553158443\n"
     ]
    },
    {
     "name": "stderr",
     "output_type": "stream",
     "text": [
      "d:\\Projects\\time-stamps-predicition\\venv\\Lib\\site-packages\\imblearn\\ensemble\\_forest.py:589: FutureWarning: The default of `replacement` will change from `False` to `True` in version 0.13. This change will follow the implementation proposed in the original paper. Set to `True` to silence this warning and adopt the future behaviour.\n",
      "  warn(\n",
      "d:\\Projects\\time-stamps-predicition\\venv\\Lib\\site-packages\\imblearn\\ensemble\\_forest.py:601: FutureWarning: The default of `bootstrap` will change from `True` to `False` in version 0.13. This change will follow the implementation proposed in the original paper. Set to `False` to silence this warning and adopt the future behaviour.\n",
      "  warn(\n"
     ]
    },
    {
     "name": "stdout",
     "output_type": "stream",
     "text": [
      "   Balanced Accuracy: 0.570606585730861\n"
     ]
    },
    {
     "name": "stderr",
     "output_type": "stream",
     "text": [
      "d:\\Projects\\time-stamps-predicition\\venv\\Lib\\site-packages\\imblearn\\ensemble\\_forest.py:589: FutureWarning: The default of `replacement` will change from `False` to `True` in version 0.13. This change will follow the implementation proposed in the original paper. Set to `True` to silence this warning and adopt the future behaviour.\n",
      "  warn(\n",
      "d:\\Projects\\time-stamps-predicition\\venv\\Lib\\site-packages\\imblearn\\ensemble\\_forest.py:601: FutureWarning: The default of `bootstrap` will change from `True` to `False` in version 0.13. This change will follow the implementation proposed in the original paper. Set to `False` to silence this warning and adopt the future behaviour.\n",
      "  warn(\n"
     ]
    },
    {
     "name": "stdout",
     "output_type": "stream",
     "text": [
      "   Balanced Accuracy: 0.5885262425444007\n"
     ]
    },
    {
     "name": "stderr",
     "output_type": "stream",
     "text": [
      "d:\\Projects\\time-stamps-predicition\\venv\\Lib\\site-packages\\imblearn\\ensemble\\_forest.py:589: FutureWarning: The default of `replacement` will change from `False` to `True` in version 0.13. This change will follow the implementation proposed in the original paper. Set to `True` to silence this warning and adopt the future behaviour.\n",
      "  warn(\n",
      "d:\\Projects\\time-stamps-predicition\\venv\\Lib\\site-packages\\imblearn\\ensemble\\_forest.py:601: FutureWarning: The default of `bootstrap` will change from `True` to `False` in version 0.13. This change will follow the implementation proposed in the original paper. Set to `False` to silence this warning and adopt the future behaviour.\n",
      "  warn(\n"
     ]
    },
    {
     "name": "stdout",
     "output_type": "stream",
     "text": [
      "   Balanced Accuracy: 0.5555228769933374\n",
      "Evaluating Logistic Regression:\n",
      "   Balanced Accuracy: 0.5082283617359445\n",
      "   Balanced Accuracy: 0.5141082079427624\n",
      "   Balanced Accuracy: 0.519967605701796\n",
      "   Balanced Accuracy: 0.5211232964278045\n",
      "   Balanced Accuracy: 0.5019818675246922\n",
      "   Balanced Accuracy: 0.5176396167654508\n",
      "   Balanced Accuracy: 0.5061856712661243\n",
      "   Balanced Accuracy: 0.5191067680112131\n",
      "   Balanced Accuracy: 0.5196960579168768\n",
      "   Balanced Accuracy: 0.5068305246299838\n",
      "Evaluating Support Vector Machine:\n",
      "   Balanced Accuracy: 0.5041544252376082\n",
      "   Balanced Accuracy: 0.5049943984165747\n"
     ]
    }
   ],
   "source": [
    "classifiers = {\n",
    "    \"Multi-Layer Perceptron\": MLPClassifier(),\n",
    "    \"Decision Tree\": DecisionTreeClassifier(),\n",
    "    \"Random Forest\": RandomForestClassifier(),\n",
    "    \"Balanced Random Forest\": BalancedRandomForestClassifier(replacement=True, sampling_strategy='all', random_state=42),\n",
    "    \"Logistic Regression\": LogisticRegression(class_weight='balanced', max_iter=1000),\n",
    "    \"Support Vector Machine\": SVC(),\n",
    "    \"K-Nearest Neighbors\": KNeighborsClassifier()\n",
    "}\n",
    "\n",
    "rskf = RepeatedStratifiedKFold(n_splits=5, n_repeats=2, random_state=42)\n",
    "results = {clf_name: [] for clf_name in classifiers}\n",
    "\n",
    "for clf_name, clf in classifiers.items():\n",
    "    print(f\"Evaluating {clf_name}:\")\n",
    "    for train, test in rskf.split(X, y):\n",
    "        model = clf\n",
    "        model.fit(X[train], y[train])\n",
    "        y_pred = model.predict(X[test])\n",
    "        acc = balanced_accuracy_score(y[test], y_pred)\n",
    "        results[clf_name].append(acc)\n",
    "\n",
    "        print(f\"   Balanced Accuracy: {acc}\")\n",
    "\n",
    "fig, ax = plt.subplots(figsize=(10, 6))\n",
    "ax.boxplot([results[clf] for clf in classifiers], labels=classifiers.keys())\n",
    "ax.set_title('Balanced Accuracy Scores of Classifiers')\n",
    "ax.set_xlabel('Classifiers')\n",
    "ax.set_ylabel('Balanced Accuracy')\n",
    "plt.xticks(rotation=45)\n",
    "plt.show()\n",
    "\n",
    "for clf_name, scores in results.items():\n",
    "    print(f\"{clf_name}: Mean = {np.mean(scores):.4f}, Std = {np.std(scores):.4f}\")\n"
   ]
  }
 ],
 "metadata": {
  "kernelspec": {
   "display_name": "Python 3",
   "language": "python",
   "name": "python3"
  },
  "language_info": {
   "codemirror_mode": {
    "name": "ipython",
    "version": 3
   },
   "file_extension": ".py",
   "mimetype": "text/x-python",
   "name": "python",
   "nbconvert_exporter": "python",
   "pygments_lexer": "ipython3",
   "version": "3.11.2"
  }
 },
 "nbformat": 4,
 "nbformat_minor": 2
}
